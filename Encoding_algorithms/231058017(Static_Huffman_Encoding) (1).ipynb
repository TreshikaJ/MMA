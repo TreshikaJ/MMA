{
  "nbformat": 4,
  "nbformat_minor": 0,
  "metadata": {
    "colab": {
      "provenance": []
    },
    "kernelspec": {
      "name": "python3",
      "display_name": "Python 3"
    },
    "language_info": {
      "name": "python"
    }
  },
  "cells": [
    {
      "cell_type": "markdown",
      "source": [
        "**Static Huffman Coding implementation**"
      ],
      "metadata": {
        "id": "QkPxymDxdn1n"
      }
    },
    {
      "cell_type": "code",
      "execution_count": null,
      "metadata": {
        "colab": {
          "base_uri": "https://localhost:8080/"
        },
        "id": "ryztvZsJcDBR",
        "outputId": "02505de2-2327-44d3-d631-c84dfafc6ae7"
      },
      "outputs": [
        {
          "output_type": "stream",
          "name": "stdout",
          "text": [
            "Original Text: hello world\n",
            "Compressed Text: 11101111101011000000111001010011\n",
            "Decompressed Text:  hello world\n"
          ]
        }
      ],
      "source": [
        "#Class to create nodes to build huffman tree\n",
        "class HuffmanNode:\n",
        "    def __init__(self, char=None, frequency=0, left=None, right=None):\n",
        "        self.char = char\n",
        "        self.frequency = frequency\n",
        "        self.left = left\n",
        "        self.right = right\n",
        "\n",
        "#Function to build frequency table which reads input text character by character and stores count of every unique character\n",
        "def build_frequency_table(text):\n",
        "    frequency_table = {}\n",
        "    for char in text:\n",
        "        frequency_table[char] = frequency_table.get(char, 0) + 1\n",
        "    return frequency_table\n",
        "\n",
        "\"\"\"Builds huffman tree from frequency table by,\n",
        "creating node for each entry or character in table\n",
        "sorting them according to frequencies\"\"\"\n",
        "def build_huffman_tree(frequency_table):\n",
        "    nodes = [HuffmanNode(char, freq) for char, freq in frequency_table.items()]\n",
        "\n",
        "    while len(nodes) > 1:\n",
        "        nodes.sort(key=lambda x: x.frequency)\n",
        "        left = nodes.pop(0)\n",
        "        right = nodes.pop(0)\n",
        "        parent = HuffmanNode(frequency=left.frequency + right.frequency, left=left, right=right)\n",
        "        nodes.append(parent)\n",
        "\n",
        "    return nodes[0]\n",
        "\n",
        "\n",
        "#It is used to map every character to codeword(binary representation) performing recursive calls\n",
        "#If node is a leaf node add codeword to dictionary if it contain left node recursively traverse left sub-tree\n",
        "def build_codewords_mapping(node, code=\"\", mapping=None):\n",
        "    if mapping is None:\n",
        "        mapping = {}\n",
        "\n",
        "    if node.char is not None:\n",
        "        mapping[node.char] = code\n",
        "    if node.left is not None:\n",
        "        build_codewords_mapping(node.left, code + \"0\", mapping)\n",
        "    if node.right is not None:\n",
        "        build_codewords_mapping(node.right, code + \"1\", mapping)\n",
        "\n",
        "    return mapping\n",
        "\n",
        "#This is used to do character by character encoding\n",
        "def encode(text, codewords_mapping):\n",
        "    encoded_text = \"\"\n",
        "    for char in text:\n",
        "        encoded_text += codewords_mapping[char]\n",
        "    return encoded_text\n",
        "\n",
        "#This is used to do character by character decoding\n",
        "def decode(encoded_text, huffman_tree):\n",
        "    decoded_text = \" \"\n",
        "    current_node = huffman_tree\n",
        "\n",
        "    for bit in encoded_text:\n",
        "        if bit == \"0\" and current_node.left:\n",
        "            current_node = current_node.left\n",
        "        elif bit == \"1\" and current_node.right:\n",
        "            current_node = current_node.right\n",
        "\n",
        "        if current_node.char:\n",
        "            decoded_text += current_node.char\n",
        "            current_node = huffman_tree\n",
        "\n",
        "    return decoded_text\n",
        "\n",
        "#Create frq_table,huffman_tree,get codeword mapping and encoded text\n",
        "def huffman_compress(text):\n",
        "    frequency_table = build_frequency_table(text)\n",
        "    huffman_tree = build_huffman_tree(frequency_table)\n",
        "    codewords_mapping = build_codewords_mapping(huffman_tree)\n",
        "    encoded_text = encode(text, codewords_mapping)\n",
        "\n",
        "    return encoded_text, huffman_tree\n",
        "\n",
        "#Used to decode encoded text\n",
        "def huffman_decompress(encoded_text, huffman_tree):\n",
        "    decoded_text = decode(encoded_text, huffman_tree)\n",
        "    return decoded_text\n",
        "\n",
        "text_to_compress = \"hello world\"\n",
        "compressed_text, huffman_tree = huffman_compress(text_to_compress)\n",
        "print(\"Original Text:\", text_to_compress)\n",
        "print(\"Compressed Text:\", compressed_text)\n",
        "print(\"Decompressed Text:\", huffman_decompress(compressed_text, huffman_tree))\n"
      ]
    },
    {
      "cell_type": "code",
      "source": [
        "#Write encode text to file\n",
        "def write_encoded_text_to_file(encoded_text, output_file):\n",
        "    with open(output_file, 'wb') as file:\n",
        "        byte_array = bytearray()\n",
        "        for i in range(0, len(encoded_text), 8):\n",
        "            byte = encoded_text[i:i + 8]\n",
        "            if len(byte) < 8:\n",
        "                byte += '0' * (8 - len(byte))\n",
        "            byte_array.append(int(byte, 2))\n",
        "        file.write(byte_array)\n",
        "\n",
        "#Read text from file\n",
        "def read_text_from_file(input_file):\n",
        "    with open(input_file, 'rb') as file:\n",
        "        byte_array = file.read()\n",
        "        binary_string = ''.join(format(byte, '08b') for byte in byte_array)\n",
        "        return binary_string\n",
        "\n",
        "#Compress file\n",
        "def compress_file(input_file, output_file):\n",
        "    with open(input_file, 'rb') as file:\n",
        "        text_to_compress = file.read()\n",
        "\n",
        "    compressed_text, huffman_tree = huffman_compress(text_to_compress.decode('utf-8'))\n",
        "\n",
        "    write_encoded_text_to_file(compressed_text, output_file)\n",
        "    return huffman_tree\n",
        "\n",
        "#Decompress file\n",
        "def decompress_file(input_file, output_file, huffman_tree):\n",
        "    encoded_text = read_text_from_file(input_file)\n",
        "    decoded_text = huffman_decompress(encoded_text, huffman_tree)\n",
        "\n",
        "    with open(output_file, 'wb') as file:\n",
        "        file.write(decoded_text.encode('utf-8'))\n",
        "\n",
        "# Example Usage for file compression and decompression:\n",
        "input_file = 'original_file.txt'\n",
        "compressed_file = 'compressed.txt'\n",
        "decompressed_file = 'decompressed.txt'\n",
        "\n",
        "# Compress file\n",
        "huffman_tree = compress_file(input_file, compressed_file)\n",
        "\n",
        "# Decompress file\n",
        "decompress_file(compressed_file, decompressed_file, huffman_tree)\n",
        "\n",
        "# Verify the result\n",
        "original_file_size = os.path.getsize(input_file)\n",
        "compressed_file_size = os.path.getsize(compressed_file)\n",
        "decompressed_file_size = os.path.getsize(decompressed_file)\n",
        "\n",
        "print(\"Original File Size:\", original_file_size, \"bytes\")\n",
        "print(\"Compressed File Size:\", compressed_file_size, \"bytes\")\n",
        "print(\"Decompressed File Size:\", decompressed_file_size, \"bytes\")\n"
      ],
      "metadata": {
        "colab": {
          "base_uri": "https://localhost:8080/"
        },
        "id": "2fO1V690sRSS",
        "outputId": "43a26325-b0a7-4aba-cf15-960fd1b1c086"
      },
      "execution_count": null,
      "outputs": [
        {
          "output_type": "stream",
          "name": "stdout",
          "text": [
            "Original File Size: 2220 bytes\n",
            "Compressed File Size: 1300 bytes\n",
            "Decompressed File Size: 2222 bytes\n"
          ]
        }
      ]
    }
  ]
}