{
  "nbformat": 4,
  "nbformat_minor": 0,
  "metadata": {
    "colab": {
      "provenance": []
    },
    "kernelspec": {
      "name": "python3",
      "display_name": "Python 3"
    },
    "language_info": {
      "name": "python"
    }
  },
  "cells": [
    {
      "cell_type": "markdown",
      "source": [
        "**Lzw_algorithm implementation**"
      ],
      "metadata": {
        "id": "azDDS_jy0KjE"
      }
    },
    {
      "cell_type": "code",
      "execution_count": 2,
      "metadata": {
        "colab": {
          "base_uri": "https://localhost:8080/"
        },
        "id": "P8QAWqmcwfAI",
        "outputId": "79486d3a-3c19-488b-dd36-f11a96043452"
      },
      "outputs": [
        {
          "output_type": "stream",
          "name": "stdout",
          "text": [
            "Original data: ABABABABAABABAABABA\n",
            "Compressed data: [65, 66, 256, 258, 257, 259, 65, 261]\n",
            "Decompressed data: ABABABABAABABAABABA\n"
          ]
        }
      ],
      "source": [
        "def lzw_compress(data):\n",
        "    dictionary = {chr(i): i for i in range(256)}\n",
        "    current_code = 256\n",
        "    result = []\n",
        "    current_sequence = \"\"\n",
        "\n",
        "    for char in data:\n",
        "        current_sequence += char\n",
        "        if current_sequence not in dictionary:\n",
        "            dictionary[current_sequence] = current_code\n",
        "            current_code += 1\n",
        "            result.append(dictionary[current_sequence[:-1]])\n",
        "            current_sequence = char\n",
        "\n",
        "    if current_sequence in dictionary:\n",
        "        result.append(dictionary[current_sequence])\n",
        "\n",
        "    return result\n",
        "\n",
        "def lzw_decompress(compressed_data):\n",
        "    dictionary = {i: chr(i) for i in range(256)}\n",
        "    current_code = 256\n",
        "    result = []\n",
        "\n",
        "    current_entry = chr(compressed_data.pop(0))\n",
        "    result.append(current_entry)\n",
        "\n",
        "    for code in compressed_data:\n",
        "        if code in dictionary:\n",
        "            entry = dictionary[code]\n",
        "        elif code == current_code:\n",
        "            entry = current_entry + current_entry[0]\n",
        "        else:\n",
        "            raise ValueError(\"Invalid compressed data\")\n",
        "\n",
        "        result.append(entry)\n",
        "        dictionary[current_code] = current_entry + entry[0]\n",
        "        current_code += 1\n",
        "        current_entry = entry\n",
        "\n",
        "    return ''.join(result)\n",
        "\n",
        "original_data = \"ABABABABAABABAABABA\"\n",
        "\n",
        "compressed_data = lzw_compress(original_data)\n",
        "print(f\"Original data: {original_data}\")\n",
        "print(f\"Compressed data: {compressed_data}\")\n",
        "decompressed_data = lzw_decompress(compressed_data)\n",
        "print(f\"Decompressed data: {decompressed_data}\")"
      ]
    },
    {
      "cell_type": "code",
      "source": [],
      "metadata": {
        "id": "YA9tgsE5wgIk"
      },
      "execution_count": null,
      "outputs": []
    }
  ]
}