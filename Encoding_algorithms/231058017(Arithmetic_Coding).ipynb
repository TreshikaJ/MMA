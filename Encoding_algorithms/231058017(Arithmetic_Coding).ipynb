{
  "nbformat": 4,
  "nbformat_minor": 0,
  "metadata": {
    "colab": {
      "provenance": []
    },
    "kernelspec": {
      "name": "python3",
      "display_name": "Python 3"
    },
    "language_info": {
      "name": "python"
    }
  },
  "cells": [
    {
      "cell_type": "markdown",
      "source": [
        "**Arithmetic Encoding**"
      ],
      "metadata": {
        "id": "a8YcgmXQtQC7"
      }
    },
    {
      "cell_type": "code",
      "execution_count": 21,
      "metadata": {
        "colab": {
          "base_uri": "https://localhost:8080/"
        },
        "id": "HxXnHWoitOIq",
        "outputId": "b36c3e0a-3e1b-446f-bb20-c69547df19ee"
      },
      "outputs": [
        {
          "output_type": "stream",
          "name": "stdout",
          "text": [
            "Encoded value: 0.21411\n",
            "Decoded message: etene\n"
          ]
        }
      ],
      "source": [
        "class ArithmeticEncoder:\n",
        "    def __init__(self):\n",
        "        self.low = 0.0\n",
        "        self.high = 1.0\n",
        "        self.range = 1.0\n",
        "\n",
        "    def encode(self, probabilities, message):\n",
        "        for symbol in message:\n",
        "          low_range = self.low\n",
        "          high_range = self.low + self.range * probabilities[symbol][1]\n",
        "          self.low = low_range + self.range * probabilities[symbol][0]\n",
        "          self.high = high_range\n",
        "          self.range = self.high - self.low\n",
        "\n",
        "        return (self.low + self.high) / 2\n",
        "\n",
        "class ArithmeticDecoder:\n",
        "    def __init__(self, encoded_value):\n",
        "        self.encoded_value = encoded_value\n",
        "        self.low = 0.0\n",
        "        self.high = 1.0\n",
        "        self.range = 1.0\n",
        "\n",
        "    def decode(self, probabilities, message_length):\n",
        "        decoded_message = []\n",
        "        for _ in range(message_length):\n",
        "            for symbol, (low_range, high_range) in probabilities.items():\n",
        "                if low_range <= (self.encoded_value - self.low) / self.range < high_range:\n",
        "                    decoded_message.append(symbol)\n",
        "                    low_range, high_range = probabilities[symbol]\n",
        "                    self.low += low_range * self.range\n",
        "                    self.high = self.low + high_range * self.range\n",
        "                    self.range = self.high - self.low\n",
        "                    break\n",
        "\n",
        "        return decoded_message\n",
        "probabilities = {'e': (0.0, 0.3), 'n': (0.3, 0.6), 't': (0.6, 0.8),'w':(0.8,0.9),'.':(0.9,1.0)}\n",
        "message = 'etnw.'\n",
        "encoder = ArithmeticEncoder()\n",
        "encoded_value = encoder.encode(probabilities, message)\n",
        "print(f\"Encoded value: {encoded_value}\")\n",
        "\n",
        "decoder = ArithmeticDecoder(encoded_value)\n",
        "decoded_message = decoder.decode(probabilities, len(message))\n",
        "print(f\"Decoded message: {''.join(decoded_message)}\")\n"
      ]
    },
    {
      "cell_type": "code",
      "source": [
        ""
      ],
      "metadata": {
        "id": "6w5oOE8ltQj-"
      },
      "execution_count": 9,
      "outputs": []
    }
  ]
}